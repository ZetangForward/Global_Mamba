{
 "cells": [
  {
   "cell_type": "code",
   "execution_count": 1,
   "metadata": {},
   "outputs": [
    {
     "data": {
      "text/plain": [
       "<triton.compiler.compiler.CompiledKernel at 0x7fb3fc5d3970>"
      ]
     },
     "execution_count": 1,
     "metadata": {},
     "output_type": "execute_result"
    }
   ],
   "source": [
    "import triton\n",
    "import triton.language as tl\n",
    "\n",
    "@triton.jit\n",
    "def softmax(Y, stride_ym, stride_yn, X, stride_xm, stride_xn, M, N):\n",
    "    # row index\n",
    "    m = tl.program_id(0)\n",
    "    # col indices\n",
    "    # this specific kernel only works for matrices that \n",
    "    # have less than BLOCK_SIZE columns\n",
    "    BLOCK_SIZE: tl.constexpr = 1024\n",
    "    n = tl.arange(0, BLOCK_SIZE)\n",
    "    # the memory address of all the elements\n",
    "    # that we want to load can be computed as follows\n",
    "    X = X + m * stride_xm + n * stride_xn\n",
    "    # load input data; pad out-of-bounds elements with 0 \n",
    "    x = tl.load(X, mask=n < N, other=-float('inf'))\n",
    "    # compute numerically-stable softmax\n",
    "    z = x - tl.max(x, axis=0)\n",
    "    num = tl.exp(z)\n",
    "    denom = tl.sum(num, axis=0)\n",
    "    y = num / denom\n",
    "    # write back to Y\n",
    "    Y = Y + m * stride_ym + n * stride_yn\n",
    "    tl.store(Y, y, mask=n < N)\n",
    "\n",
    "import torch\n",
    "# Allocate input/output tensors\n",
    "X = torch.normal(0, 1, size=(583, 931), device='cuda')\n",
    "Y = torch.empty_like(X)\n",
    "# SPMD launch grid\n",
    "grid = (X.shape[0], )\n",
    "# enqueue GPU kernel\n",
    "softmax[grid](Y, Y.stride(0), Y.stride(1), \n",
    "              X, X.stride(0), X.stride(1),\n",
    "              X.shape[0]    , X.shape[1])"
   ]
  }
 ],
 "metadata": {
  "kernelspec": {
   "display_name": "pan",
   "language": "python",
   "name": "python3"
  },
  "language_info": {
   "codemirror_mode": {
    "name": "ipython",
    "version": 3
   },
   "file_extension": ".py",
   "mimetype": "text/x-python",
   "name": "python",
   "nbconvert_exporter": "python",
   "pygments_lexer": "ipython3",
   "version": "3.10.14"
  }
 },
 "nbformat": 4,
 "nbformat_minor": 2
}
