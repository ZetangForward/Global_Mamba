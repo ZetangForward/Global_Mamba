{
 "cells": [
  {
   "cell_type": "markdown",
   "metadata": {},
   "source": [
    "# Load Transformers Model"
   ]
  },
  {
   "cell_type": "code",
   "execution_count": 5,
   "metadata": {},
   "outputs": [],
   "source": [
    "import gradio as gr\n",
    "import torch\n",
    "from transformers import AutoTokenizer, GPTNeoForCausalLM\n",
    "from mamba_ssm.models.mixer_seq_simple import MambaLMHeadModel\n",
    "from argparse import ArgumentParser\n",
    "\n",
    "\n",
    "model = GPTNeoForCausalLM.from_pretrained(\"/nvme/hf_models/gpt-neo-1.3B\").to(\"cuda:7\").to(dtype=torch.bfloat16)\n",
    "tokenizer = AutoTokenizer.from_pretrained(\"/nvme/hf_models/gpt-neo-1.3B\")\n",
    "tokenizer.pad_token = tokenizer.eos_token"
   ]
  },
  {
   "cell_type": "markdown",
   "metadata": {},
   "source": [
    "### Copy Tasks"
   ]
  },
  {
   "cell_type": "code",
   "execution_count": 9,
   "metadata": {},
   "outputs": [
    {
     "name": "stderr",
     "output_type": "stream",
     "text": [
      "The attention mask and the pad token id were not set. As a consequence, you may observe unexpected behavior. Please pass your input's `attention_mask` to obtain reliable results.\n",
      "Setting `pad_token_id` to `eos_token_id`:50256 for open-end generation.\n"
     ]
    },
    {
     "name": "stdout",
     "output_type": "stream",
     "text": [
      "Hakuna Matata! It means no worries for the rest of your days. Hakuna Matata means no -> no worries for the rest of your days.\n",
      "\n",
      "Hakuna Matata! It means no\n"
     ]
    }
   ],
   "source": [
    "message = \"Hakuna Matata! It means no worries for the rest of your days. Hakuna Matata means no ->\"\n",
    "\n",
    "tok_ids = tokenizer.encode(message, return_tensors=\"pt\").to(\"cuda:7\")\n",
    "\n",
    "decoded_res = tokenizer.decode(model.generate(tok_ids, max_new_tokens=20).cpu().numpy().tolist()[0], skip_special_tokens=True)\n",
    "\n",
    "print(decoded_res)"
   ]
  }
 ],
 "metadata": {
  "kernelspec": {
   "display_name": "zecheng",
   "language": "python",
   "name": "python3"
  },
  "language_info": {
   "codemirror_mode": {
    "name": "ipython",
    "version": 3
   },
   "file_extension": ".py",
   "mimetype": "text/x-python",
   "name": "python",
   "nbconvert_exporter": "python",
   "pygments_lexer": "ipython3",
   "version": "3.10.4"
  }
 },
 "nbformat": 4,
 "nbformat_minor": 2
}
